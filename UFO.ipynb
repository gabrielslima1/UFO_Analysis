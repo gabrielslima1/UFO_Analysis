{
 "cells": [
  {
   "cell_type": "markdown",
   "id": "02a180c0-f8ca-4a88-a628-55475902ffd8",
   "metadata": {},
   "source": [
    "# UFO Analysis"
   ]
  },
  {
   "cell_type": "markdown",
   "id": "3ebe361b-974b-4a94-85ed-6c4bf8599919",
   "metadata": {},
   "source": [
    "## Summary"
   ]
  },
  {
   "cell_type": "markdown",
   "id": "e0e3ba05-4b39-42a2-a5b3-a3bacfb82b25",
   "metadata": {},
   "source": [
    "- ### [1. Imports and reading the data](#section1)\n",
    "- ### [2. Data dictionary](#section2)\n",
    "- ### [3. Exploring and cleaning the data](#section3)\n",
    "    - #### [3.1. Transforming columns names](#section3.1)\n",
    "    - #### [3.2. Checking null values](#section3.2)\n",
    "    - #### [3.3. Checking and cleaning duplicate data](#section3.3)\n",
    "    - #### [3.4. Creating a new feature](#section3.4)\n",
    "- ### [4. Feature understanding](#section4)\n",
    "    - #### [4.1. Univariated analysis](#section4.1)\n",
    "    - #### [4.2. Bivariated analysis](#section4.2)\n",
    "- ### [5. Conclusions](#section5)"
   ]
  },
  {
   "cell_type": "markdown",
   "id": "f021953d-7018-4a6f-adde-afabc120bc52",
   "metadata": {},
   "source": [
    "<a id='section1'></a> \n",
    "# 1.Imports and reading the dataset"
   ]
  },
  {
   "cell_type": "code",
   "execution_count": 2,
   "id": "300b1ffe-abca-4bb5-9617-dd9f89dabb57",
   "metadata": {},
   "outputs": [],
   "source": [
    "import pandas as pd\n",
    "import numpy as np\n",
    "import seaborn as sns\n",
    "import matplotlib.pyplot as plt\n",
    "import plotly.express as px\n",
    "import missingno\n",
    "\n",
    "\n",
    "pd.set_option(\"display.max_columns\", 50)\n",
    "\n",
    "# ignoring warnings\n",
    "import warnings\n",
    "warnings.filterwarnings(\"ignore\")\n",
    "\n",
    "\n",
    "# setting some Params for the plots\n",
    "plt.rcParams['axes.titlesize'] = 15   \n",
    "plt.rcParams['axes.titleweight'] = 'bold'  \n",
    "plt.rcParams['axes.labelsize'] = 12  \n",
    "plt.rcParams['axes.labelweight'] = 'bold' \n",
    "plt.rcParams['xtick.labelsize'] = 12 \n",
    "plt.rcParams['ytick.labelsize'] = 12  \n",
    "plt.rcParams['legend.fontsize'] = 12  \n",
    "plt.rcParams['legend.loc'] = 'upper right'  \n",
    "plt.rcParams['legend.frameon'] = False  \n",
    "\n",
    "\n",
    "# Removing spines\n",
    "plt.rcParams['axes.spines.top'] = False\n",
    "plt.rcParams['axes.spines.right'] = False\n",
    "\n"
   ]
  },
  {
   "cell_type": "code",
   "execution_count": 3,
   "id": "5db4decc-bd58-41ca-9134-e0bdf9ad2f89",
   "metadata": {},
   "outputs": [],
   "source": [
    "#reading the data\n",
    "df=pd.read_csv(r'UFO_Sightings.csv')#,parse_dates=['Date_time','date_documented'])"
   ]
  },
  {
   "cell_type": "markdown",
   "id": "a8d668dc-06e5-41c3-b8db-7815c77db0b5",
   "metadata": {},
   "source": [
    "<a id='section2'></a> \n",
    "# 2. Data dictionary"
   ]
  },
  {
   "cell_type": "markdown",
   "id": "297d2b0f-c4b9-4fc4-a961-5c6108a2de3b",
   "metadata": {},
   "source": [
    "**Date_time:** Date and time when the UFO was sighted<br>\n",
    "**date_documented:** Date when the sighting was documented<br>\n",
    "**Year:** Year when the UFO was sighted<br>\n",
    "**Month:** Month when the UFO was sighted<br>\n",
    "**Hour:** Hour when the UFO was sighted<br>\n",
    "**Season:** Season of the year when the UFO was sighted<br>\n",
    "**Country_Code:** Country code where the sighting occurred<br>\n",
    "**Country:** Country where the sighting occurred<br>\n",
    "**Region:** Region where the sighting occurred<br>\n",
    "**Locale:** Locale where the sighting occurred<br>\n",
    "**latitude:** Latitude of the location where the sighting occurred<br>\n",
    "**longitude:** Longitude of the location where the sighting occurred<br>\n",
    "**UFO_shape:** Shape of the UFO<br>\n",
    "**length_of_encounter_seconds:** Duration of the encounter/sighting in seconds<br>\n",
    "**Encounter_Duration:** Duration of the encounter/sighting<br>\n",
    "**Description:** Description of the sighting"
   ]
  },
  {
   "cell_type": "markdown",
   "id": "e64a3272-2318-46b0-b51c-66157a3b529c",
   "metadata": {},
   "source": [
    "<a id='section3'></a> \n",
    "# 3. Exploring and cleaning the Dataset"
   ]
  },
  {
   "cell_type": "code",
   "execution_count": 4,
   "id": "ce96a9b1-a121-421f-8dba-6f339cc1ee36",
   "metadata": {},
   "outputs": [
    {
     "data": {
      "text/html": [
       "<div>\n",
       "<style scoped>\n",
       "    .dataframe tbody tr th:only-of-type {\n",
       "        vertical-align: middle;\n",
       "    }\n",
       "\n",
       "    .dataframe tbody tr th {\n",
       "        vertical-align: top;\n",
       "    }\n",
       "\n",
       "    .dataframe thead th {\n",
       "        text-align: right;\n",
       "    }\n",
       "</style>\n",
       "<table border=\"1\" class=\"dataframe\">\n",
       "  <thead>\n",
       "    <tr style=\"text-align: right;\">\n",
       "      <th></th>\n",
       "      <th>Date_time</th>\n",
       "      <th>date_documented</th>\n",
       "      <th>Year</th>\n",
       "      <th>Month</th>\n",
       "      <th>Hour</th>\n",
       "      <th>Season</th>\n",
       "      <th>Country_Code</th>\n",
       "      <th>Country</th>\n",
       "      <th>Region</th>\n",
       "      <th>Locale</th>\n",
       "      <th>latitude</th>\n",
       "      <th>longitude</th>\n",
       "      <th>UFO_shape</th>\n",
       "      <th>length_of_encounter_seconds</th>\n",
       "      <th>Encounter_Duration</th>\n",
       "      <th>Description</th>\n",
       "    </tr>\n",
       "  </thead>\n",
       "  <tbody>\n",
       "    <tr>\n",
       "      <th>0</th>\n",
       "      <td>1949-10-10 20:30:00</td>\n",
       "      <td>2004-04-27</td>\n",
       "      <td>1949</td>\n",
       "      <td>10</td>\n",
       "      <td>20</td>\n",
       "      <td>Autumn</td>\n",
       "      <td>USA</td>\n",
       "      <td>United States</td>\n",
       "      <td>Texas</td>\n",
       "      <td>San Marcos</td>\n",
       "      <td>29.883056</td>\n",
       "      <td>-97.941111</td>\n",
       "      <td>Cylinder</td>\n",
       "      <td>2700.0</td>\n",
       "      <td>45 minutes</td>\n",
       "      <td>This event took place in early fall around 194...</td>\n",
       "    </tr>\n",
       "    <tr>\n",
       "      <th>1</th>\n",
       "      <td>1949-10-10 21:00:00</td>\n",
       "      <td>2005-12-16</td>\n",
       "      <td>1949</td>\n",
       "      <td>10</td>\n",
       "      <td>21</td>\n",
       "      <td>Autumn</td>\n",
       "      <td>USA</td>\n",
       "      <td>United States</td>\n",
       "      <td>Texas</td>\n",
       "      <td>Bexar County</td>\n",
       "      <td>29.384210</td>\n",
       "      <td>-98.581082</td>\n",
       "      <td>Light</td>\n",
       "      <td>7200.0</td>\n",
       "      <td>1-2 hrs</td>\n",
       "      <td>1949 Lackland AFB&amp;#44 TX.  Lights racing acros...</td>\n",
       "    </tr>\n",
       "    <tr>\n",
       "      <th>2</th>\n",
       "      <td>1955-10-10 17:00:00</td>\n",
       "      <td>2008-01-21</td>\n",
       "      <td>1955</td>\n",
       "      <td>10</td>\n",
       "      <td>17</td>\n",
       "      <td>Autumn</td>\n",
       "      <td>GBR</td>\n",
       "      <td>United Kingdom</td>\n",
       "      <td>England</td>\n",
       "      <td>Chester</td>\n",
       "      <td>53.200000</td>\n",
       "      <td>-2.916667</td>\n",
       "      <td>Circle</td>\n",
       "      <td>20.0</td>\n",
       "      <td>20 seconds</td>\n",
       "      <td>Green/Orange circular disc over Chester&amp;#44 En...</td>\n",
       "    </tr>\n",
       "    <tr>\n",
       "      <th>3</th>\n",
       "      <td>1956-10-10 21:00:00</td>\n",
       "      <td>2004-01-17</td>\n",
       "      <td>1956</td>\n",
       "      <td>10</td>\n",
       "      <td>21</td>\n",
       "      <td>Autumn</td>\n",
       "      <td>USA</td>\n",
       "      <td>United States</td>\n",
       "      <td>Texas</td>\n",
       "      <td>Edna</td>\n",
       "      <td>28.978333</td>\n",
       "      <td>-96.645833</td>\n",
       "      <td>Circle</td>\n",
       "      <td>20.0</td>\n",
       "      <td>1/2 hour</td>\n",
       "      <td>My older brother and twin sister were leaving ...</td>\n",
       "    </tr>\n",
       "    <tr>\n",
       "      <th>4</th>\n",
       "      <td>1960-10-10 20:00:00</td>\n",
       "      <td>2004-01-22</td>\n",
       "      <td>1960</td>\n",
       "      <td>10</td>\n",
       "      <td>20</td>\n",
       "      <td>Autumn</td>\n",
       "      <td>USA</td>\n",
       "      <td>United States</td>\n",
       "      <td>Hawaii</td>\n",
       "      <td>Kaneohe</td>\n",
       "      <td>21.418056</td>\n",
       "      <td>-157.803611</td>\n",
       "      <td>Light</td>\n",
       "      <td>900.0</td>\n",
       "      <td>15 minutes</td>\n",
       "      <td>AS a Marine 1st Lt. flying an FJ4B fighter/att...</td>\n",
       "    </tr>\n",
       "  </tbody>\n",
       "</table>\n",
       "</div>"
      ],
      "text/plain": [
       "             Date_time date_documented  Year  Month  Hour  Season  \\\n",
       "0  1949-10-10 20:30:00      2004-04-27  1949     10    20  Autumn   \n",
       "1  1949-10-10 21:00:00      2005-12-16  1949     10    21  Autumn   \n",
       "2  1955-10-10 17:00:00      2008-01-21  1955     10    17  Autumn   \n",
       "3  1956-10-10 21:00:00      2004-01-17  1956     10    21  Autumn   \n",
       "4  1960-10-10 20:00:00      2004-01-22  1960     10    20  Autumn   \n",
       "\n",
       "  Country_Code         Country   Region        Locale   latitude   longitude  \\\n",
       "0          USA   United States    Texas    San Marcos  29.883056  -97.941111   \n",
       "1          USA   United States    Texas  Bexar County  29.384210  -98.581082   \n",
       "2          GBR  United Kingdom  England       Chester  53.200000   -2.916667   \n",
       "3          USA   United States    Texas          Edna  28.978333  -96.645833   \n",
       "4          USA   United States   Hawaii       Kaneohe  21.418056 -157.803611   \n",
       "\n",
       "  UFO_shape  length_of_encounter_seconds Encounter_Duration  \\\n",
       "0  Cylinder                       2700.0         45 minutes   \n",
       "1     Light                       7200.0            1-2 hrs   \n",
       "2    Circle                         20.0         20 seconds   \n",
       "3    Circle                         20.0           1/2 hour   \n",
       "4     Light                        900.0         15 minutes   \n",
       "\n",
       "                                         Description  \n",
       "0  This event took place in early fall around 194...  \n",
       "1  1949 Lackland AFB&#44 TX.  Lights racing acros...  \n",
       "2  Green/Orange circular disc over Chester&#44 En...  \n",
       "3  My older brother and twin sister were leaving ...  \n",
       "4  AS a Marine 1st Lt. flying an FJ4B fighter/att...  "
      ]
     },
     "execution_count": 4,
     "metadata": {},
     "output_type": "execute_result"
    }
   ],
   "source": [
    "df.head()"
   ]
  },
  {
   "cell_type": "code",
   "execution_count": 5,
   "id": "8c441f9e-c297-4b66-a974-b7e85f9c90c5",
   "metadata": {},
   "outputs": [
    {
     "name": "stdout",
     "output_type": "stream",
     "text": [
      "80328 rows\n",
      "16 columns\n"
     ]
    }
   ],
   "source": [
    "rows,columns=df.shape\n",
    "print(f'{rows} rows')\n",
    "print(f'{columns} columns')"
   ]
  },
  {
   "cell_type": "markdown",
   "id": "7d762a66-c031-49fc-8436-ddda3e7c8619",
   "metadata": {},
   "source": [
    "<a id='section3.1'></a> \n",
    "## 3.1. Transforming columns names\n"
   ]
  },
  {
   "cell_type": "code",
   "execution_count": 6,
   "id": "e4463449-9d78-4d88-83a4-f74c7f7a2d53",
   "metadata": {},
   "outputs": [],
   "source": [
    "#first of all lets turn all of our columns in lower case. We dont have any column name with spaces, but if we did, we could change by underscores\n",
    "df.columns=df.columns.str.lower()"
   ]
  },
  {
   "cell_type": "code",
   "execution_count": 7,
   "id": "2355c76b-2a4b-47e9-a821-2179aa0e6308",
   "metadata": {},
   "outputs": [
    {
     "data": {
      "text/plain": [
       "date_time                       object\n",
       "date_documented                 object\n",
       "year                             int64\n",
       "month                            int64\n",
       "hour                             int64\n",
       "season                          object\n",
       "country_code                    object\n",
       "country                         object\n",
       "region                          object\n",
       "locale                          object\n",
       "latitude                       float64\n",
       "longitude                      float64\n",
       "ufo_shape                       object\n",
       "length_of_encounter_seconds    float64\n",
       "encounter_duration              object\n",
       "description                     object\n",
       "dtype: object"
      ]
     },
     "execution_count": 7,
     "metadata": {},
     "output_type": "execute_result"
    }
   ],
   "source": [
    "#checking the data types\n",
    "df.dtypes"
   ]
  },
  {
   "cell_type": "code",
   "execution_count": 8,
   "id": "e6fe7253-4678-403f-8b8c-4e9177c6c8d4",
   "metadata": {},
   "outputs": [
    {
     "data": {
      "text/plain": [
       "Index(['date_time', 'date_documented', 'year', 'month', 'hour', 'season',\n",
       "       'country_code', 'country', 'region', 'locale', 'latitude', 'longitude',\n",
       "       'ufo_shape', 'length_of_encounter_seconds', 'encounter_duration',\n",
       "       'description'],\n",
       "      dtype='object')"
      ]
     },
     "execution_count": 8,
     "metadata": {},
     "output_type": "execute_result"
    }
   ],
   "source": [
    "df.columns"
   ]
  },
  {
   "cell_type": "code",
   "execution_count": 9,
   "id": "2cc46642-51f4-4037-a25e-e923a1a29160",
   "metadata": {},
   "outputs": [],
   "source": [
    "#the columns \"Country_Code\" and \"Country\" means the same, as the columns \"Length_of_encounter_seconds\" and \"Encounter_Duration\". The columns year, month and hour refers to the date_time column. lets drop \"Country\", \"Encounter_Duration\" and 'date_time' columns.\n",
    "df.drop(columns=['country','encounter_duration','date_time'],inplace=True)"
   ]
  },
  {
   "cell_type": "code",
   "execution_count": 10,
   "id": "caf0d339-35bf-474c-8f78-1107b2d030ae",
   "metadata": {},
   "outputs": [
    {
     "data": {
      "text/plain": [
       "date_documented                datetime64[ns]\n",
       "year                                    int64\n",
       "month                                   int64\n",
       "hour                                    int64\n",
       "season                                 object\n",
       "country_code                           object\n",
       "region                                 object\n",
       "locale                                 object\n",
       "latitude                              float64\n",
       "longitude                             float64\n",
       "ufo_shape                              object\n",
       "length_of_encounter_seconds           float64\n",
       "description                            object\n",
       "dtype: object"
      ]
     },
     "execution_count": 10,
     "metadata": {},
     "output_type": "execute_result"
    }
   ],
   "source": [
    "# as we have a date column with dtype=object, lets convert to datetime\n",
    "df['date_documented']=pd.to_datetime(df['date_documented'])\n",
    "df.dtypes"
   ]
  },
  {
   "cell_type": "markdown",
   "id": "9641b5e7-2a5d-4b49-a0bf-6bcc31a4b650",
   "metadata": {},
   "source": [
    "<a id='section3.2'></a> \n",
    "# 3.2. Checking null values"
   ]
  },
  {
   "cell_type": "code",
   "execution_count": 11,
   "id": "94132276-5c81-467c-80cb-73b23e731f31",
   "metadata": {},
   "outputs": [
    {
     "data": {
      "text/plain": [
       "date_documented                0.000000\n",
       "year                           0.000000\n",
       "month                          0.000000\n",
       "hour                           0.000000\n",
       "season                         0.000000\n",
       "country_code                   0.322428\n",
       "region                         0.704611\n",
       "locale                         0.568917\n",
       "latitude                       0.000000\n",
       "longitude                      0.000000\n",
       "ufo_shape                      2.402649\n",
       "length_of_encounter_seconds    0.000000\n",
       "description                    0.018673\n",
       "dtype: float64"
      ]
     },
     "execution_count": 11,
     "metadata": {},
     "output_type": "execute_result"
    }
   ],
   "source": [
    "#checking null values and how much they represents by percentual on each column\n",
    "df.isnull().sum()/rows*100"
   ]
  },
  {
   "cell_type": "markdown",
   "id": "f4317eba-f5dd-4e30-83ff-28d233f11e66",
   "metadata": {},
   "source": [
    "The ufo_shape columns has 2.4% of the data as null data. 2.4% does not represets to much data here, so, in this situation, we gonna do nothing."
   ]
  },
  {
   "cell_type": "markdown",
   "id": "df119f71-0a51-490f-9c5f-0036182e9f24",
   "metadata": {},
   "source": [
    "<a id='section3.3'></a> \n",
    "# 3.3. Checking and cleaning duplicate data"
   ]
  },
  {
   "cell_type": "code",
   "execution_count": 12,
   "id": "1bdc3b9f-42a1-4b33-90f4-0b5048751828",
   "metadata": {},
   "outputs": [
    {
     "data": {
      "text/html": [
       "<div>\n",
       "<style scoped>\n",
       "    .dataframe tbody tr th:only-of-type {\n",
       "        vertical-align: middle;\n",
       "    }\n",
       "\n",
       "    .dataframe tbody tr th {\n",
       "        vertical-align: top;\n",
       "    }\n",
       "\n",
       "    .dataframe thead th {\n",
       "        text-align: right;\n",
       "    }\n",
       "</style>\n",
       "<table border=\"1\" class=\"dataframe\">\n",
       "  <thead>\n",
       "    <tr style=\"text-align: right;\">\n",
       "      <th></th>\n",
       "      <th>date_documented</th>\n",
       "      <th>year</th>\n",
       "      <th>month</th>\n",
       "      <th>hour</th>\n",
       "      <th>season</th>\n",
       "      <th>country_code</th>\n",
       "      <th>region</th>\n",
       "      <th>locale</th>\n",
       "      <th>latitude</th>\n",
       "      <th>longitude</th>\n",
       "      <th>ufo_shape</th>\n",
       "      <th>length_of_encounter_seconds</th>\n",
       "      <th>description</th>\n",
       "    </tr>\n",
       "  </thead>\n",
       "  <tbody>\n",
       "    <tr>\n",
       "      <th>5596</th>\n",
       "      <td>2011-12-12</td>\n",
       "      <td>2011</td>\n",
       "      <td>10</td>\n",
       "      <td>21</td>\n",
       "      <td>Autumn</td>\n",
       "      <td>USA</td>\n",
       "      <td>New York</td>\n",
       "      <td>Suffolk County</td>\n",
       "      <td>40.815278</td>\n",
       "      <td>-73.112778</td>\n",
       "      <td>Light</td>\n",
       "      <td>45.0</td>\n",
       "      <td>10/30/2011   21:00 Ronkonkoma  NY bright reddi...</td>\n",
       "    </tr>\n",
       "    <tr>\n",
       "      <th>15027</th>\n",
       "      <td>2010-11-21</td>\n",
       "      <td>2010</td>\n",
       "      <td>11</td>\n",
       "      <td>3</td>\n",
       "      <td>Autumn</td>\n",
       "      <td>USA</td>\n",
       "      <td>Kansas</td>\n",
       "      <td>Leavenworth</td>\n",
       "      <td>39.311111</td>\n",
       "      <td>-94.922222</td>\n",
       "      <td>Light</td>\n",
       "      <td>1800.0</td>\n",
       "      <td>Late night UFO excitement in the county</td>\n",
       "    </tr>\n",
       "    <tr>\n",
       "      <th>16851</th>\n",
       "      <td>2014-01-24</td>\n",
       "      <td>2014</td>\n",
       "      <td>1</td>\n",
       "      <td>20</td>\n",
       "      <td>Winter</td>\n",
       "      <td>USA</td>\n",
       "      <td>Texas</td>\n",
       "      <td>San Antonio</td>\n",
       "      <td>29.423889</td>\n",
       "      <td>-98.493333</td>\n",
       "      <td>Fireball</td>\n",
       "      <td>120.0</td>\n",
       "      <td>2 fireball like objects over Southern Bexar Co...</td>\n",
       "    </tr>\n",
       "    <tr>\n",
       "      <th>21329</th>\n",
       "      <td>2005-01-11</td>\n",
       "      <td>2004</td>\n",
       "      <td>12</td>\n",
       "      <td>9</td>\n",
       "      <td>Winter</td>\n",
       "      <td>USA</td>\n",
       "      <td>Florida</td>\n",
       "      <td>Sebring</td>\n",
       "      <td>27.495278</td>\n",
       "      <td>-81.441111</td>\n",
       "      <td>Circle</td>\n",
       "      <td>30.0</td>\n",
       "      <td>Bright white light appeared in clear blue sky ...</td>\n",
       "    </tr>\n",
       "    <tr>\n",
       "      <th>24888</th>\n",
       "      <td>2008-01-21</td>\n",
       "      <td>2008</td>\n",
       "      <td>1</td>\n",
       "      <td>20</td>\n",
       "      <td>Winter</td>\n",
       "      <td>IND</td>\n",
       "      <td>NaN</td>\n",
       "      <td>Chandigarh</td>\n",
       "      <td>30.733315</td>\n",
       "      <td>76.779418</td>\n",
       "      <td>Oval</td>\n",
       "      <td>60.0</td>\n",
       "      <td>Lights blinking or rotating in oval shap in ni...</td>\n",
       "    </tr>\n",
       "    <tr>\n",
       "      <th>31166</th>\n",
       "      <td>2006-05-15</td>\n",
       "      <td>2006</td>\n",
       "      <td>3</td>\n",
       "      <td>22</td>\n",
       "      <td>Spring</td>\n",
       "      <td>USA</td>\n",
       "      <td>New Jersey</td>\n",
       "      <td>Brick Township</td>\n",
       "      <td>40.057838</td>\n",
       "      <td>-74.137183</td>\n",
       "      <td>Disk</td>\n",
       "      <td>300.0</td>\n",
       "      <td>It was a orange light that followed my car on ...</td>\n",
       "    </tr>\n",
       "    <tr>\n",
       "      <th>37434</th>\n",
       "      <td>2008-06-12</td>\n",
       "      <td>2008</td>\n",
       "      <td>4</td>\n",
       "      <td>22</td>\n",
       "      <td>Spring</td>\n",
       "      <td>USA</td>\n",
       "      <td>Indiana</td>\n",
       "      <td>Noblesville</td>\n",
       "      <td>40.045556</td>\n",
       "      <td>-86.008611</td>\n",
       "      <td>Triangle</td>\n",
       "      <td>180.0</td>\n",
       "      <td>V shaped objects seen in the night sky over ce...</td>\n",
       "    </tr>\n",
       "    <tr>\n",
       "      <th>62686</th>\n",
       "      <td>2013-07-05</td>\n",
       "      <td>2013</td>\n",
       "      <td>7</td>\n",
       "      <td>22</td>\n",
       "      <td>Summer</td>\n",
       "      <td>USA</td>\n",
       "      <td>Minnesota</td>\n",
       "      <td>Shakopee</td>\n",
       "      <td>44.798056</td>\n",
       "      <td>-93.526667</td>\n",
       "      <td>Light</td>\n",
       "      <td>300.0</td>\n",
       "      <td>Orange fast orbs.</td>\n",
       "    </tr>\n",
       "    <tr>\n",
       "      <th>70776</th>\n",
       "      <td>2013-09-09</td>\n",
       "      <td>2013</td>\n",
       "      <td>8</td>\n",
       "      <td>21</td>\n",
       "      <td>Summer</td>\n",
       "      <td>USA</td>\n",
       "      <td>Virginia</td>\n",
       "      <td>Haymarket</td>\n",
       "      <td>38.811944</td>\n",
       "      <td>-77.636667</td>\n",
       "      <td>Light</td>\n",
       "      <td>30.0</td>\n",
       "      <td>2 bright lights...</td>\n",
       "    </tr>\n",
       "    <tr>\n",
       "      <th>71393</th>\n",
       "      <td>2007-08-14</td>\n",
       "      <td>2007</td>\n",
       "      <td>8</td>\n",
       "      <td>20</td>\n",
       "      <td>Summer</td>\n",
       "      <td>USA</td>\n",
       "      <td>Louisiana</td>\n",
       "      <td>Bernard Terrace</td>\n",
       "      <td>30.450556</td>\n",
       "      <td>-91.154444</td>\n",
       "      <td>Fireball</td>\n",
       "      <td>420.0</td>\n",
       "      <td>Flaming Ball over Baton Rouge</td>\n",
       "    </tr>\n",
       "  </tbody>\n",
       "</table>\n",
       "</div>"
      ],
      "text/plain": [
       "      date_documented  year  month  hour  season country_code      region  \\\n",
       "5596       2011-12-12  2011     10    21  Autumn          USA    New York   \n",
       "15027      2010-11-21  2010     11     3  Autumn          USA      Kansas   \n",
       "16851      2014-01-24  2014      1    20  Winter          USA       Texas   \n",
       "21329      2005-01-11  2004     12     9  Winter          USA     Florida   \n",
       "24888      2008-01-21  2008      1    20  Winter          IND         NaN   \n",
       "31166      2006-05-15  2006      3    22  Spring          USA  New Jersey   \n",
       "37434      2008-06-12  2008      4    22  Spring          USA     Indiana   \n",
       "62686      2013-07-05  2013      7    22  Summer          USA   Minnesota   \n",
       "70776      2013-09-09  2013      8    21  Summer          USA    Virginia   \n",
       "71393      2007-08-14  2007      8    20  Summer          USA   Louisiana   \n",
       "\n",
       "                locale   latitude  longitude ufo_shape  \\\n",
       "5596    Suffolk County  40.815278 -73.112778     Light   \n",
       "15027      Leavenworth  39.311111 -94.922222     Light   \n",
       "16851      San Antonio  29.423889 -98.493333  Fireball   \n",
       "21329          Sebring  27.495278 -81.441111    Circle   \n",
       "24888       Chandigarh  30.733315  76.779418      Oval   \n",
       "31166   Brick Township  40.057838 -74.137183      Disk   \n",
       "37434      Noblesville  40.045556 -86.008611  Triangle   \n",
       "62686         Shakopee  44.798056 -93.526667     Light   \n",
       "70776        Haymarket  38.811944 -77.636667     Light   \n",
       "71393  Bernard Terrace  30.450556 -91.154444  Fireball   \n",
       "\n",
       "       length_of_encounter_seconds  \\\n",
       "5596                          45.0   \n",
       "15027                       1800.0   \n",
       "16851                        120.0   \n",
       "21329                         30.0   \n",
       "24888                         60.0   \n",
       "31166                        300.0   \n",
       "37434                        180.0   \n",
       "62686                        300.0   \n",
       "70776                         30.0   \n",
       "71393                        420.0   \n",
       "\n",
       "                                             description  \n",
       "5596   10/30/2011   21:00 Ronkonkoma  NY bright reddi...  \n",
       "15027            Late night UFO excitement in the county  \n",
       "16851  2 fireball like objects over Southern Bexar Co...  \n",
       "21329  Bright white light appeared in clear blue sky ...  \n",
       "24888  Lights blinking or rotating in oval shap in ni...  \n",
       "31166  It was a orange light that followed my car on ...  \n",
       "37434  V shaped objects seen in the night sky over ce...  \n",
       "62686                                  Orange fast orbs.  \n",
       "70776                                 2 bright lights...  \n",
       "71393                      Flaming Ball over Baton Rouge  "
      ]
     },
     "execution_count": 12,
     "metadata": {},
     "output_type": "execute_result"
    }
   ],
   "source": [
    "#checking duplicated data\n",
    "df.loc[df.duplicated()]"
   ]
  },
  {
   "cell_type": "markdown",
   "id": "1c743242-1759-4a5a-909d-3ad08a501947",
   "metadata": {},
   "source": [
    "\"df.duplicated()\" ignores the first row and give us all the second and additional rows that area duplicated. So lets work on them."
   ]
  },
  {
   "cell_type": "code",
   "execution_count": 13,
   "id": "9405a86b-de26-4300-b407-1f7221e600c9",
   "metadata": {},
   "outputs": [
    {
     "data": {
      "text/html": [
       "<div>\n",
       "<style scoped>\n",
       "    .dataframe tbody tr th:only-of-type {\n",
       "        vertical-align: middle;\n",
       "    }\n",
       "\n",
       "    .dataframe tbody tr th {\n",
       "        vertical-align: top;\n",
       "    }\n",
       "\n",
       "    .dataframe thead th {\n",
       "        text-align: right;\n",
       "    }\n",
       "</style>\n",
       "<table border=\"1\" class=\"dataframe\">\n",
       "  <thead>\n",
       "    <tr style=\"text-align: right;\">\n",
       "      <th></th>\n",
       "      <th>date_documented</th>\n",
       "      <th>year</th>\n",
       "      <th>month</th>\n",
       "      <th>hour</th>\n",
       "      <th>season</th>\n",
       "      <th>country_code</th>\n",
       "      <th>region</th>\n",
       "      <th>locale</th>\n",
       "      <th>latitude</th>\n",
       "      <th>longitude</th>\n",
       "      <th>ufo_shape</th>\n",
       "      <th>length_of_encounter_seconds</th>\n",
       "      <th>description</th>\n",
       "    </tr>\n",
       "  </thead>\n",
       "  <tbody>\n",
       "    <tr>\n",
       "      <th>5595</th>\n",
       "      <td>2011-12-12</td>\n",
       "      <td>2011</td>\n",
       "      <td>10</td>\n",
       "      <td>21</td>\n",
       "      <td>Autumn</td>\n",
       "      <td>USA</td>\n",
       "      <td>New York</td>\n",
       "      <td>Suffolk County</td>\n",
       "      <td>40.815278</td>\n",
       "      <td>-73.112778</td>\n",
       "      <td>Light</td>\n",
       "      <td>45.0</td>\n",
       "      <td>10/30/2011   21:00 Ronkonkoma  NY bright reddi...</td>\n",
       "    </tr>\n",
       "    <tr>\n",
       "      <th>5596</th>\n",
       "      <td>2011-12-12</td>\n",
       "      <td>2011</td>\n",
       "      <td>10</td>\n",
       "      <td>21</td>\n",
       "      <td>Autumn</td>\n",
       "      <td>USA</td>\n",
       "      <td>New York</td>\n",
       "      <td>Suffolk County</td>\n",
       "      <td>40.815278</td>\n",
       "      <td>-73.112778</td>\n",
       "      <td>Light</td>\n",
       "      <td>45.0</td>\n",
       "      <td>10/30/2011   21:00 Ronkonkoma  NY bright reddi...</td>\n",
       "    </tr>\n",
       "  </tbody>\n",
       "</table>\n",
       "</div>"
      ],
      "text/plain": [
       "     date_documented  year  month  hour  season country_code    region  \\\n",
       "5595      2011-12-12  2011     10    21  Autumn          USA  New York   \n",
       "5596      2011-12-12  2011     10    21  Autumn          USA  New York   \n",
       "\n",
       "              locale   latitude  longitude ufo_shape  \\\n",
       "5595  Suffolk County  40.815278 -73.112778     Light   \n",
       "5596  Suffolk County  40.815278 -73.112778     Light   \n",
       "\n",
       "      length_of_encounter_seconds  \\\n",
       "5595                         45.0   \n",
       "5596                         45.0   \n",
       "\n",
       "                                            description  \n",
       "5595  10/30/2011   21:00 Ronkonkoma  NY bright reddi...  \n",
       "5596  10/30/2011   21:00 Ronkonkoma  NY bright reddi...  "
      ]
     },
     "execution_count": 13,
     "metadata": {},
     "output_type": "execute_result"
    }
   ],
   "source": [
    "#lets check one of the duplicated as an example\n",
    "df.query(\"year == 2011 & month ==10 & hour == 21 & locale == 'Suffolk County'\") "
   ]
  },
  {
   "cell_type": "code",
   "execution_count": 14,
   "id": "5ae6b631-fcd0-430e-8ec4-4a82eb68bb54",
   "metadata": {},
   "outputs": [],
   "source": [
    "#so we can filter our dataframe without the duplicated data and reset the index\n",
    "df=df.loc[~df.duplicated()].reset_index(drop=True).copy()"
   ]
  },
  {
   "cell_type": "code",
   "execution_count": 15,
   "id": "37865690-6abe-431d-ad01-47cef5bd8363",
   "metadata": {},
   "outputs": [
    {
     "name": "stdout",
     "output_type": "stream",
     "text": [
      "80318 rows\n",
      "13 columns\n"
     ]
    }
   ],
   "source": [
    "rows,columns=df.shape\n",
    "print(f'{rows} rows')\n",
    "print(f'{columns} columns')"
   ]
  },
  {
   "cell_type": "code",
   "execution_count": 16,
   "id": "b6370170-3f7d-434e-8138-967707d3b640",
   "metadata": {},
   "outputs": [
    {
     "name": "stdout",
     "output_type": "stream",
     "text": [
      "hour:\n",
      "\n",
      "[20 21 17 19 23 13 16 22 12  2  0  7  5 18  3 15  4  6 11  9  8 14  1 10]\n",
      "\n",
      "24\n",
      "\n",
      "\n",
      "month:\n",
      "\n",
      "[10  1 11 12  2  3  4  5  6  7  8  9]\n",
      "\n",
      "12\n",
      "\n",
      "\n",
      "season:\n",
      "\n",
      "['Autumn' 'Winter' 'Spring' 'Summer']\n",
      "\n",
      "4\n",
      "\n",
      "\n"
     ]
    }
   ],
   "source": [
    "#lets check if the hour, month and season columns has the correct values.\n",
    "for column in ['hour','month','season']:\n",
    "    print(f'{column}:\\n')\n",
    "    print(f'{df[column].unique()}\\n')\n",
    "    print(f'{df[column].nunique()}\\n\\n')"
   ]
  },
  {
   "cell_type": "markdown",
   "id": "844469b5-5364-4f95-996a-6bc1d1dccfd9",
   "metadata": {},
   "source": [
    "Everything looks good on he the hour and month columns - 24 hours, 12 months and 4 seasons."
   ]
  },
  {
   "cell_type": "code",
   "execution_count": 17,
   "id": "5a2f9587-8890-470f-afc7-c5476c76445e",
   "metadata": {},
   "outputs": [],
   "source": [
    "#Lets map the month values to the abreviated name of the months\n",
    "months_dict = {1: 'Jan',2: 'Feb',3: 'Mar',4: 'Apr',5: 'May',6: 'Jun',7: 'Jul',8: 'Aug',9: 'Sep',10: 'Oct',11: 'Nov',12: 'Dec'}\n",
    "df['month']=df['month'].map(months_dict)"
   ]
  },
  {
   "cell_type": "markdown",
   "id": "84f7bf61-c10d-4675-875e-4d964f67ab9d",
   "metadata": {},
   "source": [
    "<a id='section3.4'></a> \n",
    "# 3.4. Creating a new feature"
   ]
  },
  {
   "cell_type": "code",
   "execution_count": 18,
   "id": "f21aa5ae-6d36-4955-9d42-19d164f51e8d",
   "metadata": {},
   "outputs": [],
   "source": [
    "#lets create a new feature using the hour columm. We can separate in 4 periods of the day: Dawn, Morning, Afternoon and Evening.\n",
    "df['period_of_the_day']=np.where(df['hour']<=5,'Dawn',np.where(df['hour']<12,'Morning',np.where(df['hour']<18,'Afternoon','Evening')))"
   ]
  },
  {
   "cell_type": "code",
   "execution_count": 19,
   "id": "1922c9d0-892f-4bf4-a442-00a19e35771f",
   "metadata": {},
   "outputs": [
    {
     "data": {
      "text/html": [
       "<div>\n",
       "<style scoped>\n",
       "    .dataframe tbody tr th:only-of-type {\n",
       "        vertical-align: middle;\n",
       "    }\n",
       "\n",
       "    .dataframe tbody tr th {\n",
       "        vertical-align: top;\n",
       "    }\n",
       "\n",
       "    .dataframe thead th {\n",
       "        text-align: right;\n",
       "    }\n",
       "</style>\n",
       "<table border=\"1\" class=\"dataframe\">\n",
       "  <thead>\n",
       "    <tr style=\"text-align: right;\">\n",
       "      <th></th>\n",
       "      <th>date_documented</th>\n",
       "      <th>year</th>\n",
       "      <th>month</th>\n",
       "      <th>hour</th>\n",
       "      <th>season</th>\n",
       "      <th>country_code</th>\n",
       "      <th>region</th>\n",
       "      <th>locale</th>\n",
       "      <th>latitude</th>\n",
       "      <th>longitude</th>\n",
       "      <th>ufo_shape</th>\n",
       "      <th>length_of_encounter_seconds</th>\n",
       "      <th>description</th>\n",
       "      <th>period_of_the_day</th>\n",
       "    </tr>\n",
       "  </thead>\n",
       "  <tbody>\n",
       "    <tr>\n",
       "      <th>0</th>\n",
       "      <td>2004-04-27</td>\n",
       "      <td>1949</td>\n",
       "      <td>Oct</td>\n",
       "      <td>20</td>\n",
       "      <td>Autumn</td>\n",
       "      <td>USA</td>\n",
       "      <td>Texas</td>\n",
       "      <td>San Marcos</td>\n",
       "      <td>29.883056</td>\n",
       "      <td>-97.941111</td>\n",
       "      <td>Cylinder</td>\n",
       "      <td>2700.0</td>\n",
       "      <td>This event took place in early fall around 194...</td>\n",
       "      <td>Evening</td>\n",
       "    </tr>\n",
       "    <tr>\n",
       "      <th>1</th>\n",
       "      <td>2005-12-16</td>\n",
       "      <td>1949</td>\n",
       "      <td>Oct</td>\n",
       "      <td>21</td>\n",
       "      <td>Autumn</td>\n",
       "      <td>USA</td>\n",
       "      <td>Texas</td>\n",
       "      <td>Bexar County</td>\n",
       "      <td>29.384210</td>\n",
       "      <td>-98.581082</td>\n",
       "      <td>Light</td>\n",
       "      <td>7200.0</td>\n",
       "      <td>1949 Lackland AFB&amp;#44 TX.  Lights racing acros...</td>\n",
       "      <td>Evening</td>\n",
       "    </tr>\n",
       "    <tr>\n",
       "      <th>2</th>\n",
       "      <td>2008-01-21</td>\n",
       "      <td>1955</td>\n",
       "      <td>Oct</td>\n",
       "      <td>17</td>\n",
       "      <td>Autumn</td>\n",
       "      <td>GBR</td>\n",
       "      <td>England</td>\n",
       "      <td>Chester</td>\n",
       "      <td>53.200000</td>\n",
       "      <td>-2.916667</td>\n",
       "      <td>Circle</td>\n",
       "      <td>20.0</td>\n",
       "      <td>Green/Orange circular disc over Chester&amp;#44 En...</td>\n",
       "      <td>Afternoon</td>\n",
       "    </tr>\n",
       "    <tr>\n",
       "      <th>3</th>\n",
       "      <td>2004-01-17</td>\n",
       "      <td>1956</td>\n",
       "      <td>Oct</td>\n",
       "      <td>21</td>\n",
       "      <td>Autumn</td>\n",
       "      <td>USA</td>\n",
       "      <td>Texas</td>\n",
       "      <td>Edna</td>\n",
       "      <td>28.978333</td>\n",
       "      <td>-96.645833</td>\n",
       "      <td>Circle</td>\n",
       "      <td>20.0</td>\n",
       "      <td>My older brother and twin sister were leaving ...</td>\n",
       "      <td>Evening</td>\n",
       "    </tr>\n",
       "    <tr>\n",
       "      <th>4</th>\n",
       "      <td>2004-01-22</td>\n",
       "      <td>1960</td>\n",
       "      <td>Oct</td>\n",
       "      <td>20</td>\n",
       "      <td>Autumn</td>\n",
       "      <td>USA</td>\n",
       "      <td>Hawaii</td>\n",
       "      <td>Kaneohe</td>\n",
       "      <td>21.418056</td>\n",
       "      <td>-157.803611</td>\n",
       "      <td>Light</td>\n",
       "      <td>900.0</td>\n",
       "      <td>AS a Marine 1st Lt. flying an FJ4B fighter/att...</td>\n",
       "      <td>Evening</td>\n",
       "    </tr>\n",
       "    <tr>\n",
       "      <th>5</th>\n",
       "      <td>2007-04-27</td>\n",
       "      <td>1961</td>\n",
       "      <td>Oct</td>\n",
       "      <td>19</td>\n",
       "      <td>Autumn</td>\n",
       "      <td>USA</td>\n",
       "      <td>Tennessee</td>\n",
       "      <td>Bristol</td>\n",
       "      <td>36.595000</td>\n",
       "      <td>-82.188889</td>\n",
       "      <td>Sphere</td>\n",
       "      <td>300.0</td>\n",
       "      <td>My father is now 89 my brother 52 the girl wit...</td>\n",
       "      <td>Evening</td>\n",
       "    </tr>\n",
       "    <tr>\n",
       "      <th>6</th>\n",
       "      <td>2006-02-14</td>\n",
       "      <td>1965</td>\n",
       "      <td>Oct</td>\n",
       "      <td>21</td>\n",
       "      <td>Autumn</td>\n",
       "      <td>GBR</td>\n",
       "      <td>Wales</td>\n",
       "      <td>Penarth</td>\n",
       "      <td>51.434722</td>\n",
       "      <td>-3.180000</td>\n",
       "      <td>Circle</td>\n",
       "      <td>180.0</td>\n",
       "      <td>penarth uk  circle  3mins  stayed 30ft above m...</td>\n",
       "      <td>Evening</td>\n",
       "    </tr>\n",
       "  </tbody>\n",
       "</table>\n",
       "</div>"
      ],
      "text/plain": [
       "  date_documented  year month  hour  season country_code     region  \\\n",
       "0      2004-04-27  1949   Oct    20  Autumn          USA      Texas   \n",
       "1      2005-12-16  1949   Oct    21  Autumn          USA      Texas   \n",
       "2      2008-01-21  1955   Oct    17  Autumn          GBR    England   \n",
       "3      2004-01-17  1956   Oct    21  Autumn          USA      Texas   \n",
       "4      2004-01-22  1960   Oct    20  Autumn          USA     Hawaii   \n",
       "5      2007-04-27  1961   Oct    19  Autumn          USA  Tennessee   \n",
       "6      2006-02-14  1965   Oct    21  Autumn          GBR      Wales   \n",
       "\n",
       "         locale   latitude   longitude ufo_shape  length_of_encounter_seconds  \\\n",
       "0    San Marcos  29.883056  -97.941111  Cylinder                       2700.0   \n",
       "1  Bexar County  29.384210  -98.581082     Light                       7200.0   \n",
       "2       Chester  53.200000   -2.916667    Circle                         20.0   \n",
       "3          Edna  28.978333  -96.645833    Circle                         20.0   \n",
       "4       Kaneohe  21.418056 -157.803611     Light                        900.0   \n",
       "5       Bristol  36.595000  -82.188889    Sphere                        300.0   \n",
       "6       Penarth  51.434722   -3.180000    Circle                        180.0   \n",
       "\n",
       "                                         description period_of_the_day  \n",
       "0  This event took place in early fall around 194...           Evening  \n",
       "1  1949 Lackland AFB&#44 TX.  Lights racing acros...           Evening  \n",
       "2  Green/Orange circular disc over Chester&#44 En...         Afternoon  \n",
       "3  My older brother and twin sister were leaving ...           Evening  \n",
       "4  AS a Marine 1st Lt. flying an FJ4B fighter/att...           Evening  \n",
       "5  My father is now 89 my brother 52 the girl wit...           Evening  \n",
       "6  penarth uk  circle  3mins  stayed 30ft above m...           Evening  "
      ]
     },
     "execution_count": 19,
     "metadata": {},
     "output_type": "execute_result"
    }
   ],
   "source": [
    "#lets check our dataframe\n",
    "df.head(7)"
   ]
  },
  {
   "cell_type": "code",
   "execution_count": 20,
   "id": "bf10ff14-72a0-42d3-888a-abb1ef468be4",
   "metadata": {},
   "outputs": [
    {
     "name": "stdout",
     "output_type": "stream",
     "text": [
      "Column month\n",
      "month unique values: 12\n",
      "\n",
      "Column season\n",
      "season unique values: 4\n",
      "\n",
      "Column country_code\n",
      "country_code unique values: 135\n",
      "\n",
      "Column region\n",
      "region unique values: 743\n",
      "\n",
      "Column locale\n",
      "locale unique values: 13245\n",
      "\n",
      "Column ufo_shape\n",
      "ufo_shape unique values: 29\n",
      "\n",
      "Column description\n",
      "description unique values: 79993\n",
      "\n",
      "Column period_of_the_day\n",
      "period_of_the_day unique values: 4\n",
      "\n"
     ]
    }
   ],
   "source": [
    "#checking the unique values by each str column\n",
    "for column in df.select_dtypes('object').columns:\n",
    "    print(f'Column {column}')\n",
    "    print(f'{column} unique values: {df[column].nunique()}\\n')"
   ]
  },
  {
   "cell_type": "markdown",
   "id": "906fafe8-de28-430c-9307-c0e67ed0227b",
   "metadata": {},
   "source": [
    "Now that we have a cleanse dataframe, lets start our feature understanding."
   ]
  },
  {
   "cell_type": "markdown",
   "id": "3f340317-15e0-45dc-bb35-aa54ca237a74",
   "metadata": {},
   "source": [
    "<a id='section4'></a> \n",
    "# 4. Feature understanding\n",
    "<a id='section4.1'></a> \n",
    "## 4.1. Univariated analysis"
   ]
  },
  {
   "cell_type": "code",
   "execution_count": 21,
   "id": "1289ddf0-33b4-49a3-a076-281550f8173d",
   "metadata": {},
   "outputs": [
    {
     "data": {
      "image/png": "[encoded data removed]",
      "text/plain": [
       "<Figure size 1440x1800 with 6 Axes>"
      ]
     },
     "metadata": {
      "needs_background": "light"
     },
     "output_type": "display_data"
    }
   ],
   "source": [
    "top_5_shapes = df['ufo_shape'].value_counts().head(5)\n",
    "top_5_countries = df['country_code'].value_counts().head(5)\n",
    "seasons= df['season'].value_counts()\n",
    "hour=df['hour'].value_counts()\n",
    "period_of_the_day=df['period_of_the_day'].value_counts()\n",
    "month=df['month'].value_counts()\n",
    "\n",
    "\n",
    "colors=['#9fee98','#85bda2','#6e9598','#557076','#4c4c67']\n",
    "\n",
    "fig,ax = plt.subplots(3,2,figsize=(20,25))\n",
    "\n",
    "top_5_shapes.plot(kind='bar',ax=ax[0,0],color=colors)\n",
    "ax[0,0].set_title('Top UFO Shapes Sights')\n",
    "ax[0,0].set_xlabel('UFO Shape')\n",
    "ax[0,0].set_ylabel('Count')\n",
    "ax[0,0].tick_params(axis='x',rotation=0)\n",
    "ax[0,0].spines[['top', 'right']].set_visible(False)\n",
    "\n",
    "top_5_countries.plot(kind='bar',ax=ax[0,1],color=colors)\n",
    "ax[0,1].set_title('Top Countries')\n",
    "ax[0,1].set_xlabel('Country')\n",
    "ax[0,1].set_ylabel('Count')\n",
    "ax[0,1].tick_params(axis='x',rotation=0)\n",
    "ax[0,1].spines[['top', 'right']].set_visible(False)\n",
    "\n",
    "seasons.plot(kind='bar',ax=ax[1,0],color=colors)\n",
    "ax[1,0].set_title('Sights by season')\n",
    "ax[1,0].set_xlabel('Season')\n",
    "ax[1,0].set_ylabel('Count')\n",
    "ax[1,0].tick_params(axis='x',rotation=0)\n",
    "ax[1,0].spines[['top', 'right']].set_visible(False)\n",
    "\n",
    "\n",
    "sns.histplot(df,x='hour',ax=ax[1,1],color=colors[0])\n",
    "ax[1,1].set_title('Sights by hour')\n",
    "ax[1,1].set_xlabel('Hour')\n",
    "ax[1,1].set_ylabel('Count')\n",
    "ax[1,1].tick_params(axis='x',rotation=0)\n",
    "ax[1,1].spines[['top', 'right']].set_visible(False)\n",
    "\n",
    "period_of_the_day.plot(kind='bar',ax=ax[2,0],color=colors)\n",
    "ax[2,0].set_title('Sights by Period of the day')\n",
    "ax[2,0].set_xlabel('Period of the day')\n",
    "ax[2,0].set_ylabel('Count')\n",
    "ax[2,0].tick_params(axis='x',rotation=0)\n",
    "ax[2,0].spines[['top', 'right']].set_visible(False)\n",
    "\n",
    "month.plot(kind='bar',ax=ax[2,1],color=colors)\n",
    "ax[2,1].set_title('Sights by Month')\n",
    "ax[2,1].set_xlabel('Month')\n",
    "ax[2,1].set_ylabel('Count')\n",
    "ax[2,1].tick_params(axis='x',rotation=0)\n",
    "ax[2,1].spines[['top', 'right']].set_visible(False)\n",
    "\n",
    "for i, v in enumerate(top_5_shapes.values):\n",
    "    ax[0,0].text(i,v,str(v),ha='center',va='bottom')\n",
    "\n",
    "for i, v in enumerate(top_5_countries.values):\n",
    "    ax[0,1].text(i,v,str(v),ha='center',va='bottom')\n",
    "\n",
    "for i, v in enumerate(seasons.values):\n",
    "    ax[1,0].text(i,v,str(v),ha='center',va='bottom')\n",
    "\n",
    "\n",
    "for barra in ax[1,1].patches:\n",
    "    x = barra.get_x() + barra.get_width() / 2\n",
    "    y = barra.get_height()\n",
    "    if y!=0:\n",
    "        ax[1,1].text(x,y,str(y),ha='center',va='bottom')\n",
    "\n",
    "\n",
    "for i, v in enumerate(period_of_the_day.values):\n",
    "    ax[2,0].text(i,v,str(v),ha='center',va='bottom')\n",
    "\n",
    "for i, v in enumerate(month.values):\n",
    "    ax[2,1].text(i,v,str(v),ha='center',va='bottom')\n",
    "\n",
    "\n",
    "\n",
    "plt.tight_layout()\n",
    "plt.show()"
   ]
  },
  {
   "cell_type": "markdown",
   "id": "9278f74b-dbd3-411b-8e92-f360bd58e818",
   "metadata": {},
   "source": [
    "Here we have some good information:\n",
    "- The UFO Shape with most appearences is the light shape;\n",
    "- The country with most appearences on this data is EUA, with 88% of the sights;\n",
    "- The Season with most appearences is the summer (maybe aliens likes warmer weather?)\n",
    "- The period of the day with most appearences is the Evening, most precisely between 9pm and 10pm.\n",
    "- The month with most appearences is July, followed by August and June."
   ]
  },
  {
   "cell_type": "markdown",
   "id": "74c2fdac-35a0-4bcc-901a-bfd4614a8463",
   "metadata": {},
   "source": [
    "<a id='section4.2'></a> \n",
    "## 4.2. Bivariated analysis"
   ]
  },
  {
   "cell_type": "code",
   "execution_count": 22,
   "id": "48f62f0b-f3aa-4f65-86cc-788895c116f3",
   "metadata": {},
   "outputs": [
    {
     "data": {
      "text/plain": [
       "date_documented                datetime64[ns]\n",
       "year                                    int64\n",
       "month                                  object\n",
       "hour                                    int64\n",
       "season                                 object\n",
       "country_code                           object\n",
       "region                                 object\n",
       "locale                                 object\n",
       "latitude                              float64\n",
       "longitude                             float64\n",
       "ufo_shape                              object\n",
       "length_of_encounter_seconds           float64\n",
       "description                            object\n",
       "period_of_the_day                      object\n",
       "dtype: object"
      ]
     },
     "execution_count": 22,
     "metadata": {},
     "output_type": "execute_result"
    }
   ],
   "source": [
    "df.dtypes"
   ]
  },
  {
   "cell_type": "code",
   "execution_count": 23,
   "id": "215fccff-8b24-433b-8d63-cf6118eff183",
   "metadata": {},
   "outputs": [
    {
     "data": {
      "image/png": "[encoded data removed]",
      "text/plain": [
       "<Figure size 1440x504 with 1 Axes>"
      ]
     },
     "metadata": {
      "needs_background": "light"
     },
     "output_type": "display_data"
    },
    {
     "data": {
      "text/html": [
       "<div>\n",
       "<style scoped>\n",
       "    .dataframe tbody tr th:only-of-type {\n",
       "        vertical-align: middle;\n",
       "    }\n",
       "\n",
       "    .dataframe tbody tr th {\n",
       "        vertical-align: top;\n",
       "    }\n",
       "\n",
       "    .dataframe thead th {\n",
       "        text-align: right;\n",
       "    }\n",
       "</style>\n",
       "<table border=\"1\" class=\"dataframe\">\n",
       "  <thead>\n",
       "    <tr style=\"text-align: right;\">\n",
       "      <th>country_code</th>\n",
       "      <th>USA</th>\n",
       "      <th>CAN</th>\n",
       "      <th>GBR</th>\n",
       "      <th>AUS</th>\n",
       "      <th>MEX</th>\n",
       "    </tr>\n",
       "  </thead>\n",
       "  <tbody>\n",
       "    <tr>\n",
       "      <th>length_of_encounter_seconds</th>\n",
       "      <td>6569.28</td>\n",
       "      <td>24316.58</td>\n",
       "      <td>53740.85</td>\n",
       "      <td>3836.67</td>\n",
       "      <td>4551.9</td>\n",
       "    </tr>\n",
       "  </tbody>\n",
       "</table>\n",
       "</div>"
      ],
      "text/plain": [
       "country_code                     USA       CAN       GBR      AUS     MEX\n",
       "length_of_encounter_seconds  6569.28  24316.58  53740.85  3836.67  4551.9"
      ]
     },
     "metadata": {},
     "output_type": "display_data"
    }
   ],
   "source": [
    "top_5_countries_list=top_5_countries.index.to_list()\n",
    "\n",
    "fig,ax=plt.subplots(figsize=(20,7))\n",
    "ax=sns.boxplot(data=df[df['country_code'].isin(top_5_countries_list)], x='country_code',y='length_of_encounter_seconds',palette=colors)\n",
    "ax.set_title('Lenght on seconds distribution by top5 countries appearences')\n",
    "ax.set_xlabel('Country')\n",
    "ax.set_ylabel('Distribution')\n",
    "ax.tick_params(axis='x', rotation=0)\n",
    "ax.spines[['top', 'right']].set_visible(False)\n",
    "plt.tight_layout()\n",
    "plt.show()\n",
    "\n",
    "display(pd.pivot_table(data=df[df['country_code'].isin(top_5_countries_list)],index='country_code',values='length_of_encounter_seconds',aggfunc='mean').round(2).transpose()[top_5_countries_list])"
   ]
  },
  {
   "cell_type": "markdown",
   "id": "8802f52d-a4df-420e-b5bc-5e9f61ebac2f",
   "metadata": {},
   "source": [
    "As we has a lot of outliers, lets drop them out to plot and agg our pivot table by the median"
   ]
  },
  {
   "cell_type": "code",
   "execution_count": 24,
   "id": "691f515e-21cf-4ebf-97df-1eca752721d4",
   "metadata": {},
   "outputs": [
    {
     "data": {
      "image/png": "[encoded data removed]",
      "text/plain": [
       "<Figure size 1440x504 with 1 Axes>"
      ]
     },
     "metadata": {
      "needs_background": "light"
     },
     "output_type": "display_data"
    },
    {
     "data": {
      "text/html": [
       "<div>\n",
       "<style scoped>\n",
       "    .dataframe tbody tr th:only-of-type {\n",
       "        vertical-align: middle;\n",
       "    }\n",
       "\n",
       "    .dataframe tbody tr th {\n",
       "        vertical-align: top;\n",
       "    }\n",
       "\n",
       "    .dataframe thead th {\n",
       "        text-align: right;\n",
       "    }\n",
       "</style>\n",
       "<table border=\"1\" class=\"dataframe\">\n",
       "  <thead>\n",
       "    <tr style=\"text-align: right;\">\n",
       "      <th>country_code</th>\n",
       "      <th>USA</th>\n",
       "      <th>CAN</th>\n",
       "      <th>GBR</th>\n",
       "      <th>AUS</th>\n",
       "      <th>MEX</th>\n",
       "    </tr>\n",
       "  </thead>\n",
       "  <tbody>\n",
       "    <tr>\n",
       "      <th>length_of_encounter_seconds</th>\n",
       "      <td>180.0</td>\n",
       "      <td>120.0</td>\n",
       "      <td>180.0</td>\n",
       "      <td>180.0</td>\n",
       "      <td>300.0</td>\n",
       "    </tr>\n",
       "  </tbody>\n",
       "</table>\n",
       "</div>"
      ],
      "text/plain": [
       "country_code                   USA    CAN    GBR    AUS    MEX\n",
       "length_of_encounter_seconds  180.0  120.0  180.0  180.0  300.0"
      ]
     },
     "metadata": {},
     "output_type": "display_data"
    }
   ],
   "source": [
    "top_5_countries_list=top_5_countries.index.to_list()\n",
    "\n",
    "fig,ax=plt.subplots(figsize=(20,7))\n",
    "ax=sns.boxplot(data=df[df['country_code'].isin(top_5_countries_list)], x='country_code',y='length_of_encounter_seconds',showfliers=False,palette=colors)\n",
    "ax.set_title('Lenght on seconds distribution by top5 countries appearences')\n",
    "ax.set_xlabel('Country')\n",
    "ax.set_ylabel('Distribution')\n",
    "ax.tick_params(axis='x', rotation=0)\n",
    "ax.spines[['top', 'right']].set_visible(False)\n",
    "plt.tight_layout()\n",
    "plt.show()\n",
    "\n",
    "display(pd.pivot_table(data=df[df['country_code'].isin(top_5_countries_list)],index='country_code',values='length_of_encounter_seconds',aggfunc='median').round(2).transpose()[top_5_countries_list])"
   ]
  },
  {
   "cell_type": "markdown",
   "id": "b4efcfb7-dfa7-4c80-beb9-3a4148997f02",
   "metadata": {},
   "source": [
    "Much better this way, and, we can say that Mexico has longer appearences than the other top countries.<br>\n",
    "\n",
    "Lets do the same with the top shapes, maybe one of them has longer appearences."
   ]
  },
  {
   "cell_type": "code",
   "execution_count": 25,
   "id": "754da873-1e09-4821-8f93-c1abceed8b01",
   "metadata": {},
   "outputs": [
    {
     "data": {
      "image/png": "[encoded data removed]",
      "text/plain": [
       "<Figure size 1440x504 with 1 Axes>"
      ]
     },
     "metadata": {
      "needs_background": "light"
     },
     "output_type": "display_data"
    },
    {
     "data": {
      "text/html": [
       "<div>\n",
       "<style scoped>\n",
       "    .dataframe tbody tr th:only-of-type {\n",
       "        vertical-align: middle;\n",
       "    }\n",
       "\n",
       "    .dataframe tbody tr th {\n",
       "        vertical-align: top;\n",
       "    }\n",
       "\n",
       "    .dataframe thead th {\n",
       "        text-align: right;\n",
       "    }\n",
       "</style>\n",
       "<table border=\"1\" class=\"dataframe\">\n",
       "  <thead>\n",
       "    <tr style=\"text-align: right;\">\n",
       "      <th>ufo_shape</th>\n",
       "      <th>Light</th>\n",
       "      <th>Triangle</th>\n",
       "      <th>Circle</th>\n",
       "      <th>Fireball</th>\n",
       "      <th>Other</th>\n",
       "    </tr>\n",
       "  </thead>\n",
       "  <tbody>\n",
       "    <tr>\n",
       "      <th>length_of_encounter_seconds</th>\n",
       "      <td>180.0</td>\n",
       "      <td>180.0</td>\n",
       "      <td>180.0</td>\n",
       "      <td>120.0</td>\n",
       "      <td>180.0</td>\n",
       "    </tr>\n",
       "  </tbody>\n",
       "</table>\n",
       "</div>"
      ],
      "text/plain": [
       "ufo_shape                    Light  Triangle  Circle  Fireball  Other\n",
       "length_of_encounter_seconds  180.0     180.0   180.0     120.0  180.0"
      ]
     },
     "metadata": {},
     "output_type": "display_data"
    }
   ],
   "source": [
    "top_5_shapes_list=top_5_shapes.index.to_list()\n",
    "\n",
    "fig,ax=plt.subplots(figsize=(20,7))\n",
    "ax=sns.boxplot(data=df[df['ufo_shape'].isin(top_5_shapes_list)], x='ufo_shape',y='length_of_encounter_seconds',showfliers=False,palette=colors)\n",
    "ax.set_title('Lenght on seconds distribution by top5 countries appearences')\n",
    "ax.set_xlabel('Country')\n",
    "ax.set_ylabel('Distribution')\n",
    "ax.tick_params(axis='x', rotation=0)\n",
    "ax.spines[['top', 'right']].set_visible(False)\n",
    "plt.tight_layout()\n",
    "plt.show()\n",
    "\n",
    "display(pd.pivot_table(data=df[df['ufo_shape'].isin(top_5_shapes_list)],index='ufo_shape',values='length_of_encounter_seconds',aggfunc='median').round(2).transpose()[top_5_shapes_list])"
   ]
  },
  {
   "cell_type": "markdown",
   "id": "a42f148d-a76a-4505-8048-565de745daf0",
   "metadata": {},
   "source": [
    "None of the top shapes appears much longer than others."
   ]
  },
  {
   "cell_type": "code",
   "execution_count": 26,
   "id": "17172504-4a33-49fc-a19f-3a5cda80a5d8",
   "metadata": {},
   "outputs": [
    {
     "data": {
      "image/png": "[encoded data removed]",
      "text/plain": [
       "<Figure size 1440x504 with 1 Axes>"
      ]
     },
     "metadata": {
      "needs_background": "light"
     },
     "output_type": "display_data"
    }
   ],
   "source": [
    "df_shapes_vs_countries=df[df['ufo_shape'].isin(top_5_shapes_list) & (df['country_code'].isin(top_5_countries_list))]\n",
    "\n",
    "df_shapes_vs_countries=(df_shapes_vs_countries[['ufo_shape','country_code']]\n",
    "     .groupby(['country_code','ufo_shape'])\n",
    "         .size().groupby(level=0)\n",
    "             .apply(lambda x: 100 * x / float(x.sum()))\n",
    "                 .reset_index().rename(columns={0:'%'}).copy())\n",
    "\n",
    "fig,ax=plt.subplots(figsize=(20,7))\n",
    "ax=sns.barplot(data=df_shapes_vs_countries,x='country_code',hue='ufo_shape',y='%',palette=colors)\n",
    "ax.set_title('% Top UFO Shapes by Top Countries')\n",
    "ax.set_xlabel('Country')\n",
    "ax.set_ylabel('%')\n",
    "ax.tick_params(axis='x', rotation=0)\n",
    "ax.spines[['top', 'right']].set_visible(False)\n",
    "ax.legend(frameon=False,loc='upper right')\n",
    "\n",
    "for bar in ax.patches:\n",
    "    x = bar.get_x() + bar.get_width() / 2\n",
    "    y = bar.get_height()\n",
    "    if y!=0:\n",
    "        ax.text(x,y,f'{y:.0f}%',ha='center',va='bottom',fontsize=12)\n",
    "\n",
    "plt.tight_layout()\n",
    "plt.show()\n"
   ]
  },
  {
   "cell_type": "markdown",
   "id": "1e51cc7b-daf6-4b0d-8dfb-7bcb5bd912f8",
   "metadata": {},
   "source": [
    "All of the top countries shows that the light shape is the shape that appears the most. On all the countries,  the second shape with most appears is the circle shape, except on the USA, where the triangle shape is the second shape with most appearences."
   ]
  },
  {
   "cell_type": "markdown",
   "id": "c8a6b821-ac80-4a5e-bf23-e61d3ab08c36",
   "metadata": {},
   "source": [
    "<a id='section5'></a> \n",
    "# 5. Conclusions"
   ]
  },
  {
   "cell_type": "markdown",
   "id": "a46121cd-a0e6-4198-96c1-66d57bb36d85",
   "metadata": {},
   "source": [
    "- USA has most UFOs appearences/reports than other countries\n",
    "- The sights usualy occurs on the evening, precisely between 9pm and 11pm\n",
    "- Alies likes most the heat weather: theirs appearences occurs most on summer, precisely on July.\n",
    "- The UFOs shapes looks more like ligths than other shapes\n",
    "- Mexico, in median, has longer appearences than the other coutries analized\n",
    "- The second shape with most appears is the circle shape, except on the USA, where the triangle shape is the second shape with most appearences.\n",
    "\n",
    "##### Recomendation:\n",
    "- If you are on the USA, on July (summer), between 9pm and 11pm, be careful... Maybe there is an alien behind you :P"
   ]
  }
 ],
 "metadata": {
  "kernelspec": {
   "display_name": "Python 3 (ipykernel)",
   "language": "python",
   "name": "python3"
  },
  "language_info": {
   "codemirror_mode": {
    "name": "ipython",
    "version": 3
   },
   "file_extension": ".py",
   "mimetype": "text/x-python",
   "name": "python",
   "nbconvert_exporter": "python",
   "pygments_lexer": "ipython3",
   "version": "3.9.12"
  }
 },
 "nbformat": 4,
 "nbformat_minor": 5
}
